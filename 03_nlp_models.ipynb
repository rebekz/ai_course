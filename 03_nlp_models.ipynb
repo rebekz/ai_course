{
 "cells": [
  {
   "cell_type": "markdown",
   "id": "6254c0dc",
   "metadata": {},
   "source": [
    "# Building NLP Models Using Python"
   ]
  },
  {
   "cell_type": "markdown",
   "id": "aeca0624",
   "metadata": {},
   "source": [
    "**Learning Outcomes:**\n",
    "1. Introduce fundamental concepts and techniques in AI\n",
    "2. Implement AI solutions to real-world problems\n",
    "3. Gain practical experience with AI algorithms using Python"
   ]
  },
  {
   "cell_type": "markdown",
   "id": "83bfbc5c",
   "metadata": {},
   "source": [
    "## Outline\n",
    "1. MNIST Classification with Neural Networks\n",
    "2. Text Preprocessing for NLP\n",
    "3. Text Classification using Naïve Bayes\n",
    "4. Sentiment Analysis using LSTM\n",
    "5. BERT text classification"
   ]
  },
  {
   "cell_type": "markdown",
   "id": "43e6a306",
   "metadata": {},
   "source": [
    "## 1. MNIST Classification with Neural Networks"
   ]
  },
  {
   "cell_type": "code",
   "execution_count": 2,
   "id": "fa72deea",
   "metadata": {},
   "outputs": [
    {
     "name": "stdout",
     "output_type": "stream",
     "text": [
      "Epoch 1/5\n",
      "\u001b[1m1875/1875\u001b[0m \u001b[32m━━━━━━━━━━━━━━━━━━━━\u001b[0m\u001b[37m\u001b[0m \u001b[1m3s\u001b[0m 1ms/step - accuracy: 0.8766 - loss: 0.4197 - val_accuracy: 0.9586 - val_loss: 0.1329\n",
      "Epoch 2/5\n",
      "\u001b[1m1875/1875\u001b[0m \u001b[32m━━━━━━━━━━━━━━━━━━━━\u001b[0m\u001b[37m\u001b[0m \u001b[1m2s\u001b[0m 1ms/step - accuracy: 0.9675 - loss: 0.1070 - val_accuracy: 0.9639 - val_loss: 0.1112\n",
      "Epoch 3/5\n",
      "\u001b[1m1875/1875\u001b[0m \u001b[32m━━━━━━━━━━━━━━━━━━━━\u001b[0m\u001b[37m\u001b[0m \u001b[1m2s\u001b[0m 1ms/step - accuracy: 0.9785 - loss: 0.0700 - val_accuracy: 0.9652 - val_loss: 0.1063\n",
      "Epoch 4/5\n",
      "\u001b[1m1875/1875\u001b[0m \u001b[32m━━━━━━━━━━━━━━━━━━━━\u001b[0m\u001b[37m\u001b[0m \u001b[1m2s\u001b[0m 1ms/step - accuracy: 0.9836 - loss: 0.0515 - val_accuracy: 0.9778 - val_loss: 0.0759\n",
      "Epoch 5/5\n",
      "\u001b[1m1875/1875\u001b[0m \u001b[32m━━━━━━━━━━━━━━━━━━━━\u001b[0m\u001b[37m\u001b[0m \u001b[1m2s\u001b[0m 1ms/step - accuracy: 0.9876 - loss: 0.0396 - val_accuracy: 0.9771 - val_loss: 0.0755\n",
      "\u001b[1m313/313\u001b[0m \u001b[32m━━━━━━━━━━━━━━━━━━━━\u001b[0m\u001b[37m\u001b[0m \u001b[1m0s\u001b[0m 415us/step - accuracy: 0.9732 - loss: 0.0888\n",
      "Test accuracy: 97.71%\n"
     ]
    },
    {
     "data": {
      "image/png": "[encoded data removed]",
      "text/plain": [
       "<Figure size 640x480 with 1 Axes>"
      ]
     },
     "metadata": {},
     "output_type": "display_data"
    }
   ],
   "source": [
    "import tensorflow as tf\n",
    "from tensorflow.keras.models import Sequential\n",
    "from tensorflow.keras.layers import Dense, Flatten\n",
    "from tensorflow.keras.datasets import mnist\n",
    "from tensorflow.keras.utils import to_categorical\n",
    "import matplotlib.pyplot as plt\n",
    "\n",
    "# Load and preprocess MNIST\n",
    "(X_train, y_train), (X_test, y_test) = mnist.load_data()\n",
    "X_train, X_test = X_train / 255.0, X_test / 255.0\n",
    "y_train = to_categorical(y_train, 10)\n",
    "y_test = to_categorical(y_test, 10)\n",
    "\n",
    "# Build model\n",
    "model_nn = Sequential([\n",
    "    Flatten(input_shape=(28, 28)),\n",
    "    Dense(128, activation=\"relu\"),\n",
    "    Dense(64, activation=\"relu\"),\n",
    "    Dense(10, activation=\"softmax\")\n",
    "])\n",
    "\n",
    "# Compile and train\n",
    "model_nn.compile(optimizer=\"adam\", loss=\"categorical_crossentropy\", metrics=[\"accuracy\"])\n",
    "history = model_nn.fit(X_train, y_train, epochs=5, batch_size=32, validation_data=(X_test, y_test))\n",
    "\n",
    "# Evaluate\n",
    "loss, accuracy = model_nn.evaluate(X_test, y_test)\n",
    "print(f\"Test accuracy: {accuracy:.2%}\")\n",
    "\n",
    "# Plot training history\n",
    "plt.plot(history.history['accuracy'], label='train_accuracy')\n",
    "plt.plot(history.history['val_accuracy'], label='val_accuracy')\n",
    "plt.xlabel('Epoch')\n",
    "plt.ylabel('Accuracy')\n",
    "plt.legend()\n",
    "plt.show()"
   ]
  },
  {
   "cell_type": "markdown",
   "id": "58a4a4f7",
   "metadata": {},
   "source": [
    "## 2. Text Preprocessing for NLP"
   ]
  },
  {
   "cell_type": "code",
   "execution_count": 4,
   "id": "ae21f03f",
   "metadata": {},
   "outputs": [
    {
     "name": "stderr",
     "output_type": "stream",
     "text": [
      "[nltk_data] Downloading package punkt to\n",
      "[nltk_data]     /Users/fitrakacamarga/nltk_data...\n",
      "[nltk_data]   Package punkt is already up-to-date!\n",
      "[nltk_data] Downloading package stopwords to\n",
      "[nltk_data]     /Users/fitrakacamarga/nltk_data...\n",
      "[nltk_data]   Package stopwords is already up-to-date!\n",
      "[nltk_data] Downloading package wordnet to\n",
      "[nltk_data]     /Users/fitrakacamarga/nltk_data...\n",
      "[nltk_data]   Package wordnet is already up-to-date!\n",
      "[nltk_data] Downloading package punkt_tab to\n",
      "[nltk_data]     /Users/fitrakacamarga/nltk_data...\n",
      "[nltk_data]   Unzipping tokenizers/punkt_tab.zip.\n"
     ]
    },
    {
     "name": "stdout",
     "output_type": "stream",
     "text": [
      "Original: ['Learning', 'Python', 'is', 'amazing', '!', 'NLP', 'is', 'very', 'powerful', '.']\n",
      "Filtered: ['Learning', 'Python', 'amazing', '!', 'NLP', 'powerful', '.']\n",
      "Stemmed: ['learn', 'python', 'amaz', '!', 'nlp', 'power', '.']\n",
      "Lemmatized: ['Learning', 'Python', 'amazing', '!', 'NLP', 'powerful', '.']\n"
     ]
    }
   ],
   "source": [
    "# Text preprocessing: tokenization, stopword removal, stemming, lemmatization\n",
    "import nltk\n",
    "from nltk.corpus import stopwords\n",
    "from nltk.tokenize import word_tokenize\n",
    "from nltk.stem import PorterStemmer, WordNetLemmatizer\n",
    "\n",
    "nltk.download('punkt')\n",
    "nltk.download('stopwords')\n",
    "nltk.download('wordnet')\n",
    "nltk.download('punkt_tab') # <-- Add this line\n",
    "\n",
    "text = \"Learning Python is amazing! NLP is very powerful.\"\n",
    "words = word_tokenize(text)\n",
    "filtered = [w for w in words if w.lower() not in stopwords.words('english')]\n",
    "stemmer = PorterStemmer()\n",
    "lemmatizer = WordNetLemmatizer()\n",
    "stemmed = [stemmer.stem(w) for w in filtered]\n",
    "lemmatized = [lemmatizer.lemmatize(w) for w in filtered]\n",
    "\n",
    "print(\"Original:\", words)\n",
    "print(\"Filtered:\", filtered)\n",
    "print(\"Stemmed:\", stemmed)\n",
    "print(\"Lemmatized:\", lemmatized)"
   ]
  },
  {
   "cell_type": "markdown",
   "id": "7ab6eeb7",
   "metadata": {},
   "source": [
    "## 3. Text Classification using Naïve Bayes"
   ]
  },
  {
   "cell_type": "code",
   "execution_count": 10,
   "id": "2239245c",
   "metadata": {},
   "outputs": [
    {
     "name": "stdout",
     "output_type": "stream",
     "text": [
      "Sample Preprocessed Corpus:\n",
      "Original: This movie was fantastic, loved every minute.\n",
      "Processed: movie fantastic loved every minute\n",
      "\n",
      "Original: Absolutely terrible service, would not recommend.\n",
      "Processed: absolutely terrible service would recommend\n",
      "\n",
      "TF-IDF Matrix Shape: (18, 123)\n",
      "\n",
      "Train size: 13, Test size: 5\n",
      "\n",
      "Naïve Bayes Accuracy: 40.00%\n",
      "\n",
      "Classification Report:\n",
      "              precision    recall  f1-score   support\n",
      "\n",
      "           0       0.00      0.00      0.00         3\n",
      "           1       0.40      1.00      0.57         2\n",
      "\n",
      "    accuracy                           0.40         5\n",
      "   macro avg       0.20      0.50      0.29         5\n",
      "weighted avg       0.16      0.40      0.23         5\n",
      "\n",
      "\n",
      "Confusion Matrix:\n",
      "[[0 3]\n",
      " [0 2]]\n"
     ]
    },
    {
     "data": {
      "image/png": "[encoded data removed]",
      "text/plain": [
       "<Figure size 600x400 with 2 Axes>"
      ]
     },
     "metadata": {},
     "output_type": "display_data"
    },
    {
     "name": "stdout",
     "output_type": "stream",
     "text": [
      "\n",
      "Predictions for new reviews:\n",
      "Review: 'The plot was amazing and unpredictable' -> Predicted Sentiment: Positive\n",
      "Review: 'Disappointing result, looking forward to the next one' -> Predicted Sentiment: Negative\n"
     ]
    }
   ],
   "source": [
    "# Enhanced Naive Bayes Example with Preprocessing and Evaluation\n",
    "import nltk\n",
    "from nltk.corpus import stopwords\n",
    "from nltk.tokenize import word_tokenize\n",
    "from nltk.stem import WordNetLemmatizer\n",
    "from sklearn.feature_extraction.text import TfidfVectorizer\n",
    "from sklearn.model_selection import train_test_split\n",
    "from sklearn.naive_bayes import MultinomialNB\n",
    "from sklearn.metrics import accuracy_score, classification_report, confusion_matrix\n",
    "import matplotlib.pyplot as plt\n",
    "import seaborn as sns\n",
    "import re\n",
    "import numpy as np # Import numpy for label handling\n",
    "\n",
    "# Ensure NLTK resources are available (downloads likely handled in the previous cell)\n",
    "# If running this cell independently, uncomment the downloads below:\n",
    "# nltk.download('punkt')\n",
    "# nltk.download('stopwords')\n",
    "# nltk.download('wordnet')\n",
    "\n",
    "# Expanded Example Corpus (Sentiment Analysis) - Now 18 samples\n",
    "corpus = [\n",
    "    \"This movie was fantastic, loved every minute.\", # Positive\n",
    "    \"Absolutely terrible service, would not recommend.\", # Negative\n",
    "    \"The product exceeded my expectations, excellent quality.\", # Positive\n",
    "    \"A truly awful experience from start to finish.\", # Negative\n",
    "    \"I'm very happy with my purchase, great value.\", # Positive\n",
    "    \"The book was boring and predictable.\", # Negative\n",
    "    \"Wonderful performance by the actors.\", # Positive\n",
    "    \"Complete waste of time and money.\", # Negative\n",
    "    \"Highly satisfied with the support team.\", # Positive\n",
    "    \"The food was mediocre at best.\", # Negative\n",
    "    \"An amazing journey, beautifully written.\", # Positive\n",
    "    \"Disappointing result, expected much more.\", # Negative\n",
    "    \"Great film, very engaging plot!\", # Positive\n",
    "    \"The software is buggy and crashes often.\", # Negative\n",
    "    \"Customer service was helpful and friendly.\", # Positive\n",
    "    \"Not worth the price, very poor quality.\", # Negative\n",
    "    \"Loved the atmosphere and the music.\", # Positive\n",
    "    \"This is the worst product I have ever bought.\" # Negative\n",
    "]\n",
    "# Corresponding labels (ensure length matches corpus)\n",
    "labels = [1, 0, 1, 0, 1, 0, 1, 0, 1, 0, 1, 0, 1, 0, 1, 0, 1, 0] # 1: positive, 0: negative\n",
    "\n",
    "# Preprocessing Function\n",
    "lemmatizer = WordNetLemmatizer()\n",
    "stop_words = set(stopwords.words('english'))\n",
    "\n",
    "def preprocess_text(text):\n",
    "    text = re.sub(r'[^\\w\\s]', '', text.lower()) # Remove punctuation, lowercase\n",
    "    words = word_tokenize(text)\n",
    "    # Lemmatize and remove stopwords and non-alphabetic tokens\n",
    "    filtered_words = [lemmatizer.lemmatize(w) for w in words if w not in stop_words and w.isalpha()]\n",
    "    return \" \".join(filtered_words) # Return joined string for TfidfVectorizer\n",
    "\n",
    "# Apply Preprocessing\n",
    "preprocessed_corpus = [preprocess_text(doc) for doc in corpus]\n",
    "print(\"Sample Preprocessed Corpus:\")\n",
    "for i in range(2):\n",
    "    print(f\"Original: {corpus[i]}\")\n",
    "    print(f\"Processed: {preprocessed_corpus[i]}\\n\")\n",
    "\n",
    "# Vectorization using TF-IDF (including bigrams)\n",
    "vectorizer = TfidfVectorizer(ngram_range=(1, 2)) # Use unigrams and bigrams\n",
    "X = vectorizer.fit_transform(preprocessed_corpus)\n",
    "print(f\"TF-IDF Matrix Shape: {X.shape}\\n\")\n",
    "\n",
    "# Train/Test Split (using stratify)\n",
    "# With 18 samples, test_size=0.25 gives ceil(4.5)=5 test samples\n",
    "X_train, X_test, y_train_nb, y_test_nb = train_test_split(\n",
    "    X, labels, test_size=0.25, random_state=42, stratify=labels\n",
    ")\n",
    "print(f\"Train size: {X_train.shape[0]}, Test size: {X_test.shape[0]}\\n\")\n",
    "\n",
    "\n",
    "# Train Naïve Bayes Model\n",
    "model_nb = MultinomialNB()\n",
    "model_nb.fit(X_train, y_train_nb)\n",
    "\n",
    "# Predict on Test Set\n",
    "y_pred_nb = model_nb.predict(X_test)\n",
    "\n",
    "# Evaluate Model\n",
    "accuracy = accuracy_score(y_test_nb, y_pred_nb)\n",
    "print(f\"Naïve Bayes Accuracy: {accuracy:.2%}\")\n",
    "\n",
    "print(\"\\nClassification Report:\")\n",
    "# Use zero_division=0 to handle cases where a class might not be predicted/present in the small test set\n",
    "# Also specify labels=[0, 1] to ensure both classes appear even if one isn't in y_true or y_pred\n",
    "print(classification_report(y_test_nb, y_pred_nb, labels=[0, 1], zero_division=0))\n",
    "\n",
    "print(\"\\nConfusion Matrix:\")\n",
    "# Ensure the confusion matrix uses the full set of labels [0, 1]\n",
    "cm = confusion_matrix(y_test_nb, y_pred_nb, labels=[0, 1])\n",
    "print(cm)\n",
    "\n",
    "# Plot Confusion Matrix\n",
    "plt.figure(figsize=(6, 4))\n",
    "# Use fixed labels for the heatmap\n",
    "tick_labels = ['Negative', 'Positive']\n",
    "sns.heatmap(cm, annot=True, fmt='d', cmap='Blues',\n",
    "            xticklabels=tick_labels,\n",
    "            yticklabels=tick_labels)\n",
    "plt.xlabel('Predicted Label')\n",
    "plt.ylabel('True Label')\n",
    "plt.title('Confusion Matrix for Naïve Bayes')\n",
    "plt.show()\n",
    "\n",
    "# Example Prediction on New Data\n",
    "new_reviews = [\"The plot was amazing and unpredictable\", \"Disappointing result, looking forward to the next one\"]\n",
    "preprocessed_new = [preprocess_text(review) for review in new_reviews]\n",
    "X_new = vectorizer.transform(preprocessed_new)\n",
    "new_predictions = model_nb.predict(X_new)\n",
    "\n",
    "print(\"\\nPredictions for new reviews:\")\n",
    "for review, prediction in zip(new_reviews, new_predictions):\n",
    "    sentiment = \"Positive\" if prediction == 1 else \"Negative\"\n",
    "    print(f\"Review: '{review}' -> Predicted Sentiment: {sentiment}\")"
   ]
  },
  {
   "cell_type": "markdown",
   "id": "2af3e1d7",
   "metadata": {},
   "source": [
    "## 5. Sentiment Analysis using LSTM"
   ]
  },
  {
   "cell_type": "code",
   "execution_count": 13,
   "id": "837811a1",
   "metadata": {},
   "outputs": [
    {
     "name": "stdout",
     "output_type": "stream",
     "text": [
      "Loading IMDB dataset with max_features=10000, max_len=200...\n",
      "Loaded 25000 training samples and 25000 test samples.\n",
      "Padding sequences...\n",
      "Training data shape: (25000, 200)\n",
      "Test data shape: (25000, 200)\n",
      "\n",
      "Building LSTM model...\n"
     ]
    },
    {
     "data": {
      "text/html": [
       "<pre style=\"white-space:pre;overflow-x:auto;line-height:normal;font-family:Menlo,'DejaVu Sans Mono',consolas,'Courier New',monospace\"><span style=\"font-weight: bold\">Model: \"sequential_4\"</span>\n",
       "</pre>\n"
      ],
      "text/plain": [
       "\u001b[1mModel: \"sequential_4\"\u001b[0m\n"
      ]
     },
     "metadata": {},
     "output_type": "display_data"
    },
    {
     "data": {
      "text/html": [
       "<pre style=\"white-space:pre;overflow-x:auto;line-height:normal;font-family:Menlo,'DejaVu Sans Mono',consolas,'Courier New',monospace\">┏━━━━━━━━━━━━━━━━━━━━━━━━━━━━━━━━━┳━━━━━━━━━━━━━━━━━━━━━━━━┳━━━━━━━━━━━━━━━┓\n",
       "┃<span style=\"font-weight: bold\"> Layer (type)                    </span>┃<span style=\"font-weight: bold\"> Output Shape           </span>┃<span style=\"font-weight: bold\">       Param # </span>┃\n",
       "┡━━━━━━━━━━━━━━━━━━━━━━━━━━━━━━━━━╇━━━━━━━━━━━━━━━━━━━━━━━━╇━━━━━━━━━━━━━━━┩\n",
       "│ embedding_1 (<span style=\"color: #0087ff; text-decoration-color: #0087ff\">Embedding</span>)         │ ?                      │   <span style=\"color: #00af00; text-decoration-color: #00af00\">0</span> (unbuilt) │\n",
       "├─────────────────────────────────┼────────────────────────┼───────────────┤\n",
       "│ lstm_2 (<span style=\"color: #0087ff; text-decoration-color: #0087ff\">LSTM</span>)                   │ ?                      │   <span style=\"color: #00af00; text-decoration-color: #00af00\">0</span> (unbuilt) │\n",
       "├─────────────────────────────────┼────────────────────────┼───────────────┤\n",
       "│ dropout (<span style=\"color: #0087ff; text-decoration-color: #0087ff\">Dropout</span>)               │ ?                      │             <span style=\"color: #00af00; text-decoration-color: #00af00\">0</span> │\n",
       "├─────────────────────────────────┼────────────────────────┼───────────────┤\n",
       "│ lstm_3 (<span style=\"color: #0087ff; text-decoration-color: #0087ff\">LSTM</span>)                   │ ?                      │   <span style=\"color: #00af00; text-decoration-color: #00af00\">0</span> (unbuilt) │\n",
       "├─────────────────────────────────┼────────────────────────┼───────────────┤\n",
       "│ dropout_1 (<span style=\"color: #0087ff; text-decoration-color: #0087ff\">Dropout</span>)             │ ?                      │             <span style=\"color: #00af00; text-decoration-color: #00af00\">0</span> │\n",
       "├─────────────────────────────────┼────────────────────────┼───────────────┤\n",
       "│ dense_9 (<span style=\"color: #0087ff; text-decoration-color: #0087ff\">Dense</span>)                 │ ?                      │   <span style=\"color: #00af00; text-decoration-color: #00af00\">0</span> (unbuilt) │\n",
       "└─────────────────────────────────┴────────────────────────┴───────────────┘\n",
       "</pre>\n"
      ],
      "text/plain": [
       "┏━━━━━━━━━━━━━━━━━━━━━━━━━━━━━━━━━┳━━━━━━━━━━━━━━━━━━━━━━━━┳━━━━━━━━━━━━━━━┓\n",
       "┃\u001b[1m \u001b[0m\u001b[1mLayer (type)                   \u001b[0m\u001b[1m \u001b[0m┃\u001b[1m \u001b[0m\u001b[1mOutput Shape          \u001b[0m\u001b[1m \u001b[0m┃\u001b[1m \u001b[0m\u001b[1m      Param #\u001b[0m\u001b[1m \u001b[0m┃\n",
       "┡━━━━━━━━━━━━━━━━━━━━━━━━━━━━━━━━━╇━━━━━━━━━━━━━━━━━━━━━━━━╇━━━━━━━━━━━━━━━┩\n",
       "│ embedding_1 (\u001b[38;5;33mEmbedding\u001b[0m)         │ ?                      │   \u001b[38;5;34m0\u001b[0m (unbuilt) │\n",
       "├─────────────────────────────────┼────────────────────────┼───────────────┤\n",
       "│ lstm_2 (\u001b[38;5;33mLSTM\u001b[0m)                   │ ?                      │   \u001b[38;5;34m0\u001b[0m (unbuilt) │\n",
       "├─────────────────────────────────┼────────────────────────┼───────────────┤\n",
       "│ dropout (\u001b[38;5;33mDropout\u001b[0m)               │ ?                      │             \u001b[38;5;34m0\u001b[0m │\n",
       "├─────────────────────────────────┼────────────────────────┼───────────────┤\n",
       "│ lstm_3 (\u001b[38;5;33mLSTM\u001b[0m)                   │ ?                      │   \u001b[38;5;34m0\u001b[0m (unbuilt) │\n",
       "├─────────────────────────────────┼────────────────────────┼───────────────┤\n",
       "│ dropout_1 (\u001b[38;5;33mDropout\u001b[0m)             │ ?                      │             \u001b[38;5;34m0\u001b[0m │\n",
       "├─────────────────────────────────┼────────────────────────┼───────────────┤\n",
       "│ dense_9 (\u001b[38;5;33mDense\u001b[0m)                 │ ?                      │   \u001b[38;5;34m0\u001b[0m (unbuilt) │\n",
       "└─────────────────────────────────┴────────────────────────┴───────────────┘\n"
      ]
     },
     "metadata": {},
     "output_type": "display_data"
    },
    {
     "data": {
      "text/html": [
       "<pre style=\"white-space:pre;overflow-x:auto;line-height:normal;font-family:Menlo,'DejaVu Sans Mono',consolas,'Courier New',monospace\"><span style=\"font-weight: bold\"> Total params: </span><span style=\"color: #00af00; text-decoration-color: #00af00\">0</span> (0.00 B)\n",
       "</pre>\n"
      ],
      "text/plain": [
       "\u001b[1m Total params: \u001b[0m\u001b[38;5;34m0\u001b[0m (0.00 B)\n"
      ]
     },
     "metadata": {},
     "output_type": "display_data"
    },
    {
     "data": {
      "text/html": [
       "<pre style=\"white-space:pre;overflow-x:auto;line-height:normal;font-family:Menlo,'DejaVu Sans Mono',consolas,'Courier New',monospace\"><span style=\"font-weight: bold\"> Trainable params: </span><span style=\"color: #00af00; text-decoration-color: #00af00\">0</span> (0.00 B)\n",
       "</pre>\n"
      ],
      "text/plain": [
       "\u001b[1m Trainable params: \u001b[0m\u001b[38;5;34m0\u001b[0m (0.00 B)\n"
      ]
     },
     "metadata": {},
     "output_type": "display_data"
    },
    {
     "data": {
      "text/html": [
       "<pre style=\"white-space:pre;overflow-x:auto;line-height:normal;font-family:Menlo,'DejaVu Sans Mono',consolas,'Courier New',monospace\"><span style=\"font-weight: bold\"> Non-trainable params: </span><span style=\"color: #00af00; text-decoration-color: #00af00\">0</span> (0.00 B)\n",
       "</pre>\n"
      ],
      "text/plain": [
       "\u001b[1m Non-trainable params: \u001b[0m\u001b[38;5;34m0\u001b[0m (0.00 B)\n"
      ]
     },
     "metadata": {},
     "output_type": "display_data"
    },
    {
     "name": "stdout",
     "output_type": "stream",
     "text": [
      "\n",
      "Training LSTM model...\n",
      "Epoch 1/3\n",
      "\u001b[1m391/391\u001b[0m \u001b[32m━━━━━━━━━━━━━━━━━━━━\u001b[0m\u001b[37m\u001b[0m \u001b[1m78s\u001b[0m 197ms/step - accuracy: 0.7021 - loss: 0.5500 - val_accuracy: 0.8164 - val_loss: 0.4736\n",
      "Epoch 2/3\n",
      "\u001b[1m391/391\u001b[0m \u001b[32m━━━━━━━━━━━━━━━━━━━━\u001b[0m\u001b[37m\u001b[0m \u001b[1m71s\u001b[0m 183ms/step - accuracy: 0.8440 - loss: 0.3846 - val_accuracy: 0.8640 - val_loss: 0.3190\n",
      "Epoch 3/3\n",
      "\u001b[1m391/391\u001b[0m \u001b[32m━━━━━━━━━━━━━━━━━━━━\u001b[0m\u001b[37m\u001b[0m \u001b[1m71s\u001b[0m 183ms/step - accuracy: 0.9144 - loss: 0.2348 - val_accuracy: 0.8557 - val_loss: 0.3556\n",
      "\n",
      "Evaluating model on test data...\n",
      "\n",
      "LSTM Test Accuracy: 85.57%\n",
      "LSTM Test Loss: 0.3556\n",
      "\n",
      "Generating predictions on test set...\n",
      "\u001b[1m782/782\u001b[0m \u001b[32m━━━━━━━━━━━━━━━━━━━━\u001b[0m\u001b[37m\u001b[0m \u001b[1m17s\u001b[0m 21ms/step\n",
      "\n",
      "Classification Report:\n",
      "              precision    recall  f1-score   support\n",
      "\n",
      "    Negative       0.91      0.79      0.85     12500\n",
      "    Positive       0.81      0.92      0.86     12500\n",
      "\n",
      "    accuracy                           0.86     25000\n",
      "   macro avg       0.86      0.86      0.86     25000\n",
      "weighted avg       0.86      0.86      0.86     25000\n",
      "\n",
      "\n",
      "Confusion Matrix:\n",
      "[[ 9856  2644]\n",
      " [  964 11536]]\n"
     ]
    },
    {
     "data": {
      "image/png": "[encoded data removed]",
      "text/plain": [
       "<Figure size 600x400 with 2 Axes>"
      ]
     },
     "metadata": {},
     "output_type": "display_data"
    },
    {
     "name": "stdout",
     "output_type": "stream",
     "text": [
      "\n",
      "Predicting sentiment for custom reviews...\n",
      "Downloading data from https://storage.googleapis.com/tensorflow/tf-keras-datasets/imdb_word_index.json\n",
      "\u001b[1m1641221/1641221\u001b[0m \u001b[32m━━━━━━━━━━━━━━━━━━━━\u001b[0m\u001b[37m\u001b[0m \u001b[1m0s\u001b[0m 0us/step\n",
      "Review: 'This movie was absolutely brilliant fantastic plot and acting'\n",
      "Predicted Sentiment: Positive (Prob: 0.9854)\n",
      "\n",
      "Review: 'A complete waste of time terrible film not recommended'\n",
      "Predicted Sentiment: Positive (Prob: 0.9854)\n",
      "\n",
      "Review: 'I really enjoyed it it was fun and heartwarming maybe the best'\n",
      "Predicted Sentiment: Positive (Prob: 0.9854)\n",
      "\n",
      "Review: 'The storyline was predictable and the characters were boring and dull'\n",
      "Predicted Sentiment: Positive (Prob: 0.9854)\n",
      "\n"
     ]
    }
   ],
   "source": [
    "# Enhanced LSTM Sentiment Analysis Example\n",
    "import numpy as np\n",
    "from tensorflow.keras.preprocessing.text import Tokenizer\n",
    "from tensorflow.keras.preprocessing.sequence import pad_sequences\n",
    "from tensorflow.keras.layers import Embedding, LSTM, Dense, Dropout # Added Dropout\n",
    "from tensorflow.keras.datasets import imdb\n",
    "from tensorflow.keras.models import Sequential\n",
    "from sklearn.metrics import classification_report, confusion_matrix\n",
    "import matplotlib.pyplot as plt\n",
    "import seaborn as sns\n",
    "import re # For simple text cleaning\n",
    "\n",
    "# Load IMDB dataset\n",
    "max_features = 10000 # vocabulary size\n",
    "max_len = 200 # max sequence length\n",
    "print(f\"Loading IMDB dataset with max_features={max_features}, max_len={max_len}...\")\n",
    "(X_train_imdb, y_train_imdb), (X_test_imdb, y_test_imdb) = imdb.load_data(num_words=max_features)\n",
    "print(f\"Loaded {len(X_train_imdb)} training samples and {len(X_test_imdb)} test samples.\")\n",
    "\n",
    "# Preprocess: Pad sequences\n",
    "print(\"Padding sequences...\")\n",
    "X_train_seq = pad_sequences(X_train_imdb, maxlen=max_len)\n",
    "X_test_seq = pad_sequences(X_test_imdb, maxlen=max_len)\n",
    "print(f\"Training data shape: {X_train_seq.shape}\")\n",
    "print(f\"Test data shape: {X_test_seq.shape}\")\n",
    "\n",
    "# Build LSTM model (Added Dropout for regularization)\n",
    "embedding_dim = 128\n",
    "lstm_units_1 = 64\n",
    "lstm_units_2 = 32\n",
    "\n",
    "print(\"\\nBuilding LSTM model...\")\n",
    "model_lstm = Sequential([\n",
    "    Embedding(input_dim=max_features, output_dim=embedding_dim, input_length=max_len),\n",
    "    LSTM(lstm_units_1, return_sequences=True),\n",
    "    Dropout(0.3), # Added dropout\n",
    "    LSTM(lstm_units_2),\n",
    "    Dropout(0.3), # Added dropout\n",
    "    Dense(1, activation=\"sigmoid\") # Sigmoid for binary classification\n",
    "])\n",
    "\n",
    "model_lstm.summary() # Print model architecture\n",
    "\n",
    "# Compile and Train\n",
    "model_lstm.compile(optimizer=\"adam\", loss=\"binary_crossentropy\", metrics=[\"accuracy\"])\n",
    "print(\"\\nTraining LSTM model...\")\n",
    "history_lstm = model_lstm.fit(X_train_seq, y_train_imdb,\n",
    "                           epochs=3, # Keep epochs low for a quick example\n",
    "                           batch_size=64,\n",
    "                           validation_data=(X_test_seq, y_test_imdb),\n",
    "                           verbose=1) # Set verbose to 1 to see progress\n",
    "\n",
    "# --- Enhanced Evaluation ---\n",
    "print(\"\\nEvaluating model on test data...\")\n",
    "loss_lstm, acc_lstm = model_lstm.evaluate(X_test_seq, y_test_imdb, verbose=0)\n",
    "print(f\"\\nLSTM Test Accuracy: {acc_lstm:.2%}\")\n",
    "print(f\"LSTM Test Loss: {loss_lstm:.4f}\")\n",
    "\n",
    "# Get predictions (probabilities)\n",
    "print(\"\\nGenerating predictions on test set...\")\n",
    "y_pred_prob = model_lstm.predict(X_test_seq)\n",
    "# Convert probabilities to class labels (0 or 1)\n",
    "y_pred_lstm = (y_pred_prob > 0.5).astype(\"int32\").flatten() # Flatten for metrics\n",
    "\n",
    "# 1. Classification Report\n",
    "print(\"\\nClassification Report:\")\n",
    "target_names = ['Negative', 'Positive']\n",
    "print(classification_report(y_test_imdb, y_pred_lstm, target_names=target_names))\n",
    "\n",
    "# 2. Confusion Matrix\n",
    "print(\"\\nConfusion Matrix:\")\n",
    "cm_lstm = confusion_matrix(y_test_imdb, y_pred_lstm)\n",
    "print(cm_lstm)\n",
    "\n",
    "# Plot Confusion Matrix\n",
    "plt.figure(figsize=(6, 4))\n",
    "sns.heatmap(cm_lstm, annot=True, fmt='d', cmap='Blues',\n",
    "            xticklabels=target_names,\n",
    "            yticklabels=target_names)\n",
    "plt.xlabel('Predicted Label')\n",
    "plt.ylabel('True Label')\n",
    "plt.title('Confusion Matrix for LSTM (IMDB)')\n",
    "plt.show()\n",
    "\n",
    "# 3. Prediction on Custom Reviews\n",
    "print(\"\\nPredicting sentiment for custom reviews...\")\n",
    "word_index = imdb.get_word_index()\n",
    "# The index is offset by 3 (0: padding, 1: start, 2: unknown/OOV)\n",
    "index_from = 3\n",
    "word_to_id = {w: (i + index_from) for w, i in word_index.items() if (i + index_from) < max_features} # Limit to max_features\n",
    "word_to_id[\"<PAD>\"] = 0\n",
    "word_to_id[\"<START>\"] = 1\n",
    "word_to_id[\"<UNK>\"] = 2\n",
    "\n",
    "def preprocess_custom_review(text):\n",
    "    # Simple preprocessing: lowercase, remove non-alphanumeric, split\n",
    "    text = re.sub(r'[^\\w\\s]', '', text.lower())\n",
    "    words = text.split()\n",
    "    # Convert words to IDs, using 2 for unknown words (OOV)\n",
    "    encoded_review = [word_to_id.get(word, 2) for word in words]\n",
    "    # Add the start index\n",
    "    encoded_review = [1] + encoded_review\n",
    "    # Pad the sequence\n",
    "    padded_review = pad_sequences([encoded_review], maxlen=max_len, padding='post', truncating='post')\n",
    "    return padded_review\n",
    "\n",
    "custom_reviews = [\n",
    "    \"This movie was absolutely brilliant fantastic plot and acting\",\n",
    "    \"A complete waste of time terrible film not recommended\",\n",
    "    \"I really enjoyed it it was fun and heartwarming maybe the best\",\n",
    "    \"The storyline was predictable and the characters were boring and dull\"\n",
    "]\n",
    "\n",
    "for review in custom_reviews:\n",
    "    preprocessed = preprocess_custom_review(review)\n",
    "    prediction_prob = model_lstm.predict(preprocessed, verbose=0)[0][0]\n",
    "    sentiment = \"Positive\" if prediction_prob > 0.5 else \"Negative\"\n",
    "    print(f\"Review: '{review}'\\nPredicted Sentiment: {sentiment} (Prob: {prediction_prob:.4f})\\n\")\n"
   ]
  },
  {
   "cell_type": "markdown",
   "id": "e127a0a5",
   "metadata": {},
   "source": [
    "# BERT text classification"
   ]
  },
  {
   "cell_type": "code",
   "execution_count": 1,
   "id": "f210d0f9",
   "metadata": {},
   "outputs": [
    {
     "name": "stderr",
     "output_type": "stream",
     "text": [
      "/Users/fitrakacamarga/project/self/ai_courses/.venv/lib/python3.11/site-packages/tqdm/auto.py:21: TqdmWarning: IProgress not found. Please update jupyter and ipywidgets. See https://ipywidgets.readthedocs.io/en/stable/user_install.html\n",
      "  from .autonotebook import tqdm as notebook_tqdm\n",
      "Map: 100%|██████████| 50000/50000 [00:07<00:00, 6600.34 examples/s]\n"
     ]
    }
   ],
   "source": [
    "import torch\n",
    "from datasets import load_dataset\n",
    "from transformers import AutoTokenizer, AutoModelForSequenceClassification, TrainingArguments, Trainer\n",
    "from sklearn.metrics import accuracy_score, precision_recall_fscore_support\n",
    "\n",
    "# Load the IMDB dataset\n",
    "dataset = load_dataset(\"imdb\")\n",
    "\n",
    "# Initialize tokenizer\n",
    "tokenizer = AutoTokenizer.from_pretrained(\"bert-base-uncased\")\n",
    "\n",
    "# Tokenization function\n",
    "def tokenize_batch(batch):\n",
    "    return tokenizer(batch[\"text\"], padding=\"max_length\", truncation=True, max_length=128)\n",
    "\n",
    "# Tokenize dataset\n",
    "tokenized = dataset.map(tokenize_batch, batched=True)\n",
    "tokenized = tokenized.remove_columns([\"text\"])\n",
    "tokenized.set_format(\"torch\")\n",
    "\n",
    "# Create train and test splits\n",
    "train_dataset = tokenized[\"train\"]\n",
    "test_dataset = tokenized[\"test\"]\n"
   ]
  },
  {
   "cell_type": "code",
   "execution_count": 2,
   "id": "3cf2bc3d",
   "metadata": {},
   "outputs": [
    {
     "name": "stderr",
     "output_type": "stream",
     "text": [
      "Some weights of BertForSequenceClassification were not initialized from the model checkpoint at bert-base-uncased and are newly initialized: ['classifier.bias', 'classifier.weight']\n",
      "You should probably TRAIN this model on a down-stream task to be able to use it for predictions and inference.\n"
     ]
    }
   ],
   "source": [
    "# Load pre-trained BERT model for sequence classification\n",
    "model = AutoModelForSequenceClassification.from_pretrained(\"bert-base-uncased\", num_labels=2)\n"
   ]
  },
  {
   "cell_type": "code",
   "execution_count": 3,
   "id": "122b67b5",
   "metadata": {},
   "outputs": [],
   "source": [
    "# Define metric computation\n",
    "def compute_metrics(eval_pred):\n",
    "    logits, labels = eval_pred\n",
    "    preds = logits.argmax(axis=-1)\n",
    "    precision, recall, f1, _ = precision_recall_fscore_support(labels, preds, average=\"binary\")\n",
    "    acc = accuracy_score(labels, preds)\n",
    "    return {\"accuracy\": acc, \"precision\": precision, \"recall\": recall, \"f1\": f1}\n",
    "\n",
    "# Setup training arguments\n",
    "training_args = TrainingArguments(\n",
    "    output_dir=\"./results\",\n",
    "    eval_strategy=\"epoch\",\n",
    "    learning_rate=2e-5,\n",
    "    per_device_train_batch_size=8,\n",
    "    per_device_eval_batch_size=8,\n",
    "    num_train_epochs=2,\n",
    "    weight_decay=0.01,\n",
    ")\n",
    "\n",
    "# Initialize Trainer\n",
    "trainer = Trainer(\n",
    "    model=model,\n",
    "    args=training_args,\n",
    "    train_dataset=train_dataset.select(range(2000)),  # Subset for quick run\n",
    "    eval_dataset=test_dataset.select(range(1000)),\n",
    "    compute_metrics=compute_metrics,\n",
    ")\n"
   ]
  },
  {
   "cell_type": "code",
   "execution_count": 4,
   "id": "da6c9abe",
   "metadata": {},
   "outputs": [
    {
     "data": {
      "text/html": [
       "\n",
       "    <div>\n",
       "      \n",
       "      <progress value='500' max='500' style='width:300px; height:20px; vertical-align: middle;'></progress>\n",
       "      [500/500 02:12, Epoch 2/2]\n",
       "    </div>\n",
       "    <table border=\"1\" class=\"dataframe\">\n",
       "  <thead>\n",
       " <tr style=\"text-align: left;\">\n",
       "      <th>Epoch</th>\n",
       "      <th>Training Loss</th>\n",
       "      <th>Validation Loss</th>\n",
       "      <th>Accuracy</th>\n",
       "      <th>Precision</th>\n",
       "      <th>Recall</th>\n",
       "      <th>F1</th>\n",
       "    </tr>\n",
       "  </thead>\n",
       "  <tbody>\n",
       "    <tr>\n",
       "      <td>1</td>\n",
       "      <td>No log</td>\n",
       "      <td>0.000222</td>\n",
       "      <td>1.000000</td>\n",
       "      <td>0.000000</td>\n",
       "      <td>0.000000</td>\n",
       "      <td>0.000000</td>\n",
       "    </tr>\n",
       "    <tr>\n",
       "      <td>2</td>\n",
       "      <td>0.009300</td>\n",
       "      <td>0.000140</td>\n",
       "      <td>1.000000</td>\n",
       "      <td>0.000000</td>\n",
       "      <td>0.000000</td>\n",
       "      <td>0.000000</td>\n",
       "    </tr>\n",
       "  </tbody>\n",
       "</table><p>"
      ],
      "text/plain": [
       "<IPython.core.display.HTML object>"
      ]
     },
     "metadata": {},
     "output_type": "display_data"
    },
    {
     "name": "stderr",
     "output_type": "stream",
     "text": [
      "/Users/fitrakacamarga/project/self/ai_courses/.venv/lib/python3.11/site-packages/sklearn/metrics/_classification.py:1565: UndefinedMetricWarning: Precision is ill-defined and being set to 0.0 due to no predicted samples. Use `zero_division` parameter to control this behavior.\n",
      "  _warn_prf(average, modifier, f\"{metric.capitalize()} is\", len(result))\n",
      "/Users/fitrakacamarga/project/self/ai_courses/.venv/lib/python3.11/site-packages/sklearn/metrics/_classification.py:1565: UndefinedMetricWarning: Recall is ill-defined and being set to 0.0 due to no true samples. Use `zero_division` parameter to control this behavior.\n",
      "  _warn_prf(average, modifier, f\"{metric.capitalize()} is\", len(result))\n",
      "/Users/fitrakacamarga/project/self/ai_courses/.venv/lib/python3.11/site-packages/sklearn/metrics/_classification.py:1565: UndefinedMetricWarning: F-score is ill-defined and being set to 0.0 due to no true nor predicted samples. Use `zero_division` parameter to control this behavior.\n",
      "  _warn_prf(average, modifier, f\"{metric.capitalize()} is\", len(result))\n",
      "/Users/fitrakacamarga/project/self/ai_courses/.venv/lib/python3.11/site-packages/sklearn/metrics/_classification.py:1565: UndefinedMetricWarning: Precision is ill-defined and being set to 0.0 due to no predicted samples. Use `zero_division` parameter to control this behavior.\n",
      "  _warn_prf(average, modifier, f\"{metric.capitalize()} is\", len(result))\n",
      "/Users/fitrakacamarga/project/self/ai_courses/.venv/lib/python3.11/site-packages/sklearn/metrics/_classification.py:1565: UndefinedMetricWarning: Recall is ill-defined and being set to 0.0 due to no true samples. Use `zero_division` parameter to control this behavior.\n",
      "  _warn_prf(average, modifier, f\"{metric.capitalize()} is\", len(result))\n",
      "/Users/fitrakacamarga/project/self/ai_courses/.venv/lib/python3.11/site-packages/sklearn/metrics/_classification.py:1565: UndefinedMetricWarning: F-score is ill-defined and being set to 0.0 due to no true nor predicted samples. Use `zero_division` parameter to control this behavior.\n",
      "  _warn_prf(average, modifier, f\"{metric.capitalize()} is\", len(result))\n"
     ]
    },
    {
     "data": {
      "text/html": [
       "\n",
       "    <div>\n",
       "      \n",
       "      <progress value='125' max='125' style='width:300px; height:20px; vertical-align: middle;'></progress>\n",
       "      [125/125 00:07]\n",
       "    </div>\n",
       "    "
      ],
      "text/plain": [
       "<IPython.core.display.HTML object>"
      ]
     },
     "metadata": {},
     "output_type": "display_data"
    },
    {
     "name": "stdout",
     "output_type": "stream",
     "text": [
      "{'eval_loss': 0.00014005428238306195, 'eval_accuracy': 1.0, 'eval_precision': 0.0, 'eval_recall': 0.0, 'eval_f1': 0.0, 'eval_runtime': 7.3143, 'eval_samples_per_second': 136.718, 'eval_steps_per_second': 17.09, 'epoch': 2.0}\n"
     ]
    },
    {
     "name": "stderr",
     "output_type": "stream",
     "text": [
      "/Users/fitrakacamarga/project/self/ai_courses/.venv/lib/python3.11/site-packages/sklearn/metrics/_classification.py:1565: UndefinedMetricWarning: Precision is ill-defined and being set to 0.0 due to no predicted samples. Use `zero_division` parameter to control this behavior.\n",
      "  _warn_prf(average, modifier, f\"{metric.capitalize()} is\", len(result))\n",
      "/Users/fitrakacamarga/project/self/ai_courses/.venv/lib/python3.11/site-packages/sklearn/metrics/_classification.py:1565: UndefinedMetricWarning: Recall is ill-defined and being set to 0.0 due to no true samples. Use `zero_division` parameter to control this behavior.\n",
      "  _warn_prf(average, modifier, f\"{metric.capitalize()} is\", len(result))\n",
      "/Users/fitrakacamarga/project/self/ai_courses/.venv/lib/python3.11/site-packages/sklearn/metrics/_classification.py:1565: UndefinedMetricWarning: F-score is ill-defined and being set to 0.0 due to no true nor predicted samples. Use `zero_division` parameter to control this behavior.\n",
      "  _warn_prf(average, modifier, f\"{metric.capitalize()} is\", len(result))\n"
     ]
    }
   ],
   "source": [
    "# Train the model\n",
    "trainer.train()\n",
    "\n",
    "# Evaluate the model\n",
    "eval_results = trainer.evaluate()\n",
    "print(eval_results)\n"
   ]
  },
  {
   "cell_type": "code",
   "execution_count": null,
   "id": "d59498c6",
   "metadata": {},
   "outputs": [],
   "source": [
    "# Display a few sample predictions\n",
    "for sample in test_dataset.select(range(5)):\n",
    "    inputs = tokenizer(sample[\"review\"], return_tensors=\"pt\", truncation=True, padding=True, max_length=128)\n",
    "    outputs = model(**inputs)\n",
    "    pred = torch.argmax(outputs.logits, dim=1).item()\n",
    "    print(sample[\"text\"][:100], \"... Prediction:\", \"Positive\" if pred == 1 else \"Negative\")\n"
   ]
  }
 ],
 "metadata": {
  "kernelspec": {
   "display_name": ".venv",
   "language": "python",
   "name": "python3"
  },
  "language_info": {
   "codemirror_mode": {
    "name": "ipython",
    "version": 3
   },
   "file_extension": ".py",
   "mimetype": "text/x-python",
   "name": "python",
   "nbconvert_exporter": "python",
   "pygments_lexer": "ipython3",
   "version": "3.11.11"
  }
 },
 "nbformat": 4,
 "nbformat_minor": 5
}
